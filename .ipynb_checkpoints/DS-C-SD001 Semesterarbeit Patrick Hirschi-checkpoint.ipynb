{
 "cells": [
  {
   "cell_type": "code",
   "execution_count": 2,
   "id": "23f00a48",
   "metadata": {},
   "outputs": [
    {
     "data": {
      "text/html": [
       "<style>\n",
       "table {float: left}\n",
       "</style>\n"
      ],
      "text/plain": [
       "<IPython.core.display.HTML object>"
      ]
     },
     "metadata": {},
     "output_type": "display_data"
    }
   ],
   "source": [
    "%%html\n",
    "<style>\n",
    "table {float: left}\n",
    "</style>"
   ]
  },
  {
   "cell_type": "markdown",
   "id": "a9dea7fe",
   "metadata": {},
   "source": [
    "# Semesterarbeit Statistische Datenanalyse\n",
    "\n",
    "## Dokumenteninformationen\n",
    "\n",
    "\n",
    "| Titel   <img width=200/> |      todo     |\n",
    "|:---------|:------------- |\n",
    "| Schule |  Fernfachhochschule Schweiz |\n",
    "| Studiengang |    Certificate of Advanced Studies in Statistische Datenanalyse & Datenvisualisierung   |\n",
    "| Kennung | DS-C-SD001.StatDa.ZH-Sa-1.PVA.FS23 |\n",
    "| Semester | Frühlingssemester 2023 |\n",
    "| Dozent | **Jörg Osterrieder**<br>joerg.osterrieder@ffhs.ch<br> |\n",
    "| Autor | **Patrick Hirschi**<br>Geburtsdatum: 12.01.1990<br>Matrikelnummer: 10-179-026<br>Studierenden-ID: 200768<br>patrick-hirschi@gmx.ch<br> |"
   ]
  },
  {
   "cell_type": "markdown",
   "id": "ea96c812",
   "metadata": {},
   "source": [
    "# Datenbeschaffung"
   ]
  },
  {
   "cell_type": "markdown",
   "id": "0c318bd6",
   "metadata": {},
   "source": [
    "https://www.kaggle.com/datasets/kumarajarshi/life-expectancy-who"
   ]
  },
  {
   "cell_type": "code",
   "execution_count": 1,
   "id": "69dc23dd",
   "metadata": {},
   "outputs": [
    {
     "name": "stdout",
     "output_type": "stream",
     "text": [
      "matplotlib: 3.6.3\n",
      "requests: 2.28.2\n",
      "pandas: 1.5.3\n",
      "numpy: 1.24.2\n",
      "plotly: 5.13.0\n",
      "The module import was successful!\n"
     ]
    }
   ],
   "source": [
    "# import required modules\n",
    "%matplotlib inline\n",
    "import matplotlib\n",
    "import matplotlib.pyplot as plt\n",
    "import sys\n",
    "import os\n",
    "import datetime\n",
    "import requests\n",
    "from requests.exceptions import HTTPError\n",
    "import pandas as pd\n",
    "import numpy as np\n",
    "\n",
    "# Visualization\n",
    "import plotly \n",
    "import plotly.express as px\n",
    "import plotly.graph_objects as go\n",
    "\n",
    "# print versions\n",
    "print('matplotlib: %s' % matplotlib.__version__)\n",
    "print('requests: %s' % requests.__version__)\n",
    "print('pandas: %s' % pd.__version__)\n",
    "print('numpy: %s' % np.__version__)\n",
    "print('plotly: %s' % plotly.__version__)\n",
    "\n",
    "# log success\n",
    "print(f'The module import was successful!')"
   ]
  },
  {
   "cell_type": "code",
   "execution_count": null,
   "id": "f5af7b4c",
   "metadata": {},
   "outputs": [],
   "source": []
  },
  {
   "cell_type": "code",
   "execution_count": null,
   "id": "fdde3f23",
   "metadata": {},
   "outputs": [],
   "source": []
  }
 ],
 "metadata": {
  "kernelspec": {
   "display_name": "statda-sem",
   "language": "python",
   "name": "statda-sem"
  },
  "language_info": {
   "codemirror_mode": {
    "name": "ipython",
    "version": 3
   },
   "file_extension": ".py",
   "mimetype": "text/x-python",
   "name": "python",
   "nbconvert_exporter": "python",
   "pygments_lexer": "ipython3",
   "version": "3.9.13"
  },
  "toc": {
   "base_numbering": 1,
   "nav_menu": {},
   "number_sections": true,
   "sideBar": true,
   "skip_h1_title": false,
   "title_cell": "Table of Contents",
   "title_sidebar": "Contents",
   "toc_cell": false,
   "toc_position": {},
   "toc_section_display": true,
   "toc_window_display": false
  }
 },
 "nbformat": 4,
 "nbformat_minor": 5
}
